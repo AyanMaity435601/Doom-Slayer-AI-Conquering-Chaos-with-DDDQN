{
  "nbformat": 4,
  "nbformat_minor": 0,
  "metadata": {
    "colab": {
      "provenance": [],
      "gpuType": "T4"
    },
    "kernelspec": {
      "name": "python3",
      "display_name": "Python 3"
    },
    "language_info": {
      "name": "python"
    },
    "accelerator": "GPU"
  },
  "cells": [
    {
      "cell_type": "code",
      "execution_count": 1,
      "metadata": {
        "colab": {
          "base_uri": "https://localhost:8080/"
        },
        "id": "WHbGheIadTw6",
        "outputId": "c343f0db-b6f0-4bf0-93f6-8cef0a24b44e"
      },
      "outputs": [
        {
          "output_type": "stream",
          "name": "stdout",
          "text": [
            "Mounted at /content/drive\n"
          ]
        }
      ],
      "source": [
        "from google.colab import drive\n",
        "drive.mount('/content/drive')"
      ]
    },
    {
      "cell_type": "code",
      "source": [
        "!pip install torch torchvision --index-url https://download.pytorch.org/whl/cu118\n"
      ],
      "metadata": {
        "colab": {
          "base_uri": "https://localhost:8080/"
        },
        "id": "7onK-xtoddj5",
        "outputId": "b47240f1-70bf-4421-9160-c2953a556d70"
      },
      "execution_count": 2,
      "outputs": [
        {
          "output_type": "stream",
          "name": "stdout",
          "text": [
            "Looking in indexes: https://download.pytorch.org/whl/cu118\n",
            "Requirement already satisfied: torch in /usr/local/lib/python3.10/dist-packages (2.5.1+cu121)\n",
            "Requirement already satisfied: torchvision in /usr/local/lib/python3.10/dist-packages (0.20.1+cu121)\n",
            "Requirement already satisfied: filelock in /usr/local/lib/python3.10/dist-packages (from torch) (3.16.1)\n",
            "Requirement already satisfied: typing-extensions>=4.8.0 in /usr/local/lib/python3.10/dist-packages (from torch) (4.12.2)\n",
            "Requirement already satisfied: networkx in /usr/local/lib/python3.10/dist-packages (from torch) (3.4.2)\n",
            "Requirement already satisfied: jinja2 in /usr/local/lib/python3.10/dist-packages (from torch) (3.1.4)\n",
            "Requirement already satisfied: fsspec in /usr/local/lib/python3.10/dist-packages (from torch) (2024.10.0)\n",
            "Requirement already satisfied: sympy==1.13.1 in /usr/local/lib/python3.10/dist-packages (from torch) (1.13.1)\n",
            "Requirement already satisfied: mpmath<1.4,>=1.1.0 in /usr/local/lib/python3.10/dist-packages (from sympy==1.13.1->torch) (1.3.0)\n",
            "Requirement already satisfied: numpy in /usr/local/lib/python3.10/dist-packages (from torchvision) (1.26.4)\n",
            "Requirement already satisfied: pillow!=8.3.*,>=5.3.0 in /usr/local/lib/python3.10/dist-packages (from torchvision) (11.0.0)\n",
            "Requirement already satisfied: MarkupSafe>=2.0 in /usr/local/lib/python3.10/dist-packages (from jinja2->torch) (3.0.2)\n"
          ]
        }
      ]
    },
    {
      "cell_type": "code",
      "source": [
        "!pip install tensorboard\n",
        "!pip install tensorboardX"
      ],
      "metadata": {
        "colab": {
          "base_uri": "https://localhost:8080/"
        },
        "id": "M2UIKe9YeG2u",
        "outputId": "76561826-16eb-404f-8752-5adaccf1d11f"
      },
      "execution_count": 3,
      "outputs": [
        {
          "output_type": "stream",
          "name": "stdout",
          "text": [
            "Requirement already satisfied: tensorboard in /usr/local/lib/python3.10/dist-packages (2.17.1)\n",
            "Requirement already satisfied: absl-py>=0.4 in /usr/local/lib/python3.10/dist-packages (from tensorboard) (1.4.0)\n",
            "Requirement already satisfied: grpcio>=1.48.2 in /usr/local/lib/python3.10/dist-packages (from tensorboard) (1.68.0)\n",
            "Requirement already satisfied: markdown>=2.6.8 in /usr/local/lib/python3.10/dist-packages (from tensorboard) (3.7)\n",
            "Requirement already satisfied: numpy>=1.12.0 in /usr/local/lib/python3.10/dist-packages (from tensorboard) (1.26.4)\n",
            "Requirement already satisfied: packaging in /usr/local/lib/python3.10/dist-packages (from tensorboard) (24.2)\n",
            "Requirement already satisfied: protobuf!=4.24.0,>=3.19.6 in /usr/local/lib/python3.10/dist-packages (from tensorboard) (4.25.5)\n",
            "Requirement already satisfied: setuptools>=41.0.0 in /usr/local/lib/python3.10/dist-packages (from tensorboard) (75.1.0)\n",
            "Requirement already satisfied: six>1.9 in /usr/local/lib/python3.10/dist-packages (from tensorboard) (1.16.0)\n",
            "Requirement already satisfied: tensorboard-data-server<0.8.0,>=0.7.0 in /usr/local/lib/python3.10/dist-packages (from tensorboard) (0.7.2)\n",
            "Requirement already satisfied: werkzeug>=1.0.1 in /usr/local/lib/python3.10/dist-packages (from tensorboard) (3.1.3)\n",
            "Requirement already satisfied: MarkupSafe>=2.1.1 in /usr/local/lib/python3.10/dist-packages (from werkzeug>=1.0.1->tensorboard) (3.0.2)\n",
            "Collecting tensorboardX\n",
            "  Downloading tensorboardX-2.6.2.2-py2.py3-none-any.whl.metadata (5.8 kB)\n",
            "Requirement already satisfied: numpy in /usr/local/lib/python3.10/dist-packages (from tensorboardX) (1.26.4)\n",
            "Requirement already satisfied: packaging in /usr/local/lib/python3.10/dist-packages (from tensorboardX) (24.2)\n",
            "Requirement already satisfied: protobuf>=3.20 in /usr/local/lib/python3.10/dist-packages (from tensorboardX) (4.25.5)\n",
            "Downloading tensorboardX-2.6.2.2-py2.py3-none-any.whl (101 kB)\n",
            "\u001b[2K   \u001b[90m━━━━━━━━━━━━━━━━━━━━━━━━━━━━━━━━━━━━━━━━\u001b[0m \u001b[32m101.7/101.7 kB\u001b[0m \u001b[31m3.0 MB/s\u001b[0m eta \u001b[36m0:00:00\u001b[0m\n",
            "\u001b[?25hInstalling collected packages: tensorboardX\n",
            "Successfully installed tensorboardX-2.6.2.2\n"
          ]
        }
      ]
    },
    {
      "cell_type": "code",
      "source": [
        "!pip install moviepy"
      ],
      "metadata": {
        "colab": {
          "base_uri": "https://localhost:8080/"
        },
        "id": "4IX02EkBeNNC",
        "outputId": "773d7921-33d3-4b27-a400-5a6bc4b3a819"
      },
      "execution_count": 4,
      "outputs": [
        {
          "output_type": "stream",
          "name": "stdout",
          "text": [
            "Requirement already satisfied: moviepy in /usr/local/lib/python3.10/dist-packages (1.0.3)\n",
            "Requirement already satisfied: decorator<5.0,>=4.0.2 in /usr/local/lib/python3.10/dist-packages (from moviepy) (4.4.2)\n",
            "Requirement already satisfied: imageio<3.0,>=2.5 in /usr/local/lib/python3.10/dist-packages (from moviepy) (2.36.0)\n",
            "Requirement already satisfied: imageio_ffmpeg>=0.2.0 in /usr/local/lib/python3.10/dist-packages (from moviepy) (0.5.1)\n",
            "Requirement already satisfied: tqdm<5.0,>=4.11.2 in /usr/local/lib/python3.10/dist-packages (from moviepy) (4.66.6)\n",
            "Requirement already satisfied: numpy>=1.17.3 in /usr/local/lib/python3.10/dist-packages (from moviepy) (1.26.4)\n",
            "Requirement already satisfied: requests<3.0,>=2.8.1 in /usr/local/lib/python3.10/dist-packages (from moviepy) (2.32.3)\n",
            "Requirement already satisfied: proglog<=1.0.0 in /usr/local/lib/python3.10/dist-packages (from moviepy) (0.1.10)\n",
            "Requirement already satisfied: pillow>=8.3.2 in /usr/local/lib/python3.10/dist-packages (from imageio<3.0,>=2.5->moviepy) (11.0.0)\n",
            "Requirement already satisfied: setuptools in /usr/local/lib/python3.10/dist-packages (from imageio_ffmpeg>=0.2.0->moviepy) (75.1.0)\n",
            "Requirement already satisfied: charset-normalizer<4,>=2 in /usr/local/lib/python3.10/dist-packages (from requests<3.0,>=2.8.1->moviepy) (3.4.0)\n",
            "Requirement already satisfied: idna<4,>=2.5 in /usr/local/lib/python3.10/dist-packages (from requests<3.0,>=2.8.1->moviepy) (3.10)\n",
            "Requirement already satisfied: urllib3<3,>=1.21.1 in /usr/local/lib/python3.10/dist-packages (from requests<3.0,>=2.8.1->moviepy) (2.2.3)\n",
            "Requirement already satisfied: certifi>=2017.4.17 in /usr/local/lib/python3.10/dist-packages (from requests<3.0,>=2.8.1->moviepy) (2024.8.30)\n"
          ]
        }
      ]
    },
    {
      "cell_type": "code",
      "source": [
        "%cd /content/drive/MyDrive/Deep-Reinforcement-Learning-applied-to-DOOM"
      ],
      "metadata": {
        "colab": {
          "base_uri": "https://localhost:8080/"
        },
        "id": "4uxll472dwak",
        "outputId": "fa851fe9-1c22-4a46-d945-e2cebea3d0f5"
      },
      "execution_count": 6,
      "outputs": [
        {
          "output_type": "stream",
          "name": "stdout",
          "text": [
            "/content/drive/.shortcut-targets-by-id/13moyaA7g1rytL_ZCuFIkQOsPB6taeinw/Deep-Reinforcement-Learning-applied-to-DOOM\n"
          ]
        }
      ]
    },
    {
      "cell_type": "code",
      "source": [
        "!ls"
      ],
      "metadata": {
        "colab": {
          "base_uri": "https://localhost:8080/"
        },
        "id": "BvNyVY3MemoJ",
        "outputId": "7d4a6da6-dcdb-4912-d1af-67bd7e27e7a9"
      },
      "execution_count": 7,
      "outputs": [
        {
          "output_type": "stream",
          "name": "stdout",
          "text": [
            " Deep_Q_Learning\t\t\t\t   README.md\n",
            " Deep_reinforcement_learning_applied_to_Doom.pdf  'Some explaining slides to this project.pptx'\n"
          ]
        }
      ]
    },
    {
      "cell_type": "code",
      "source": [
        "%cd Deep_Q_Learning"
      ],
      "metadata": {
        "colab": {
          "base_uri": "https://localhost:8080/"
        },
        "id": "NQicEobBeqeK",
        "outputId": "2677e7a8-3569-449d-b12b-c35834f8a476"
      },
      "execution_count": 8,
      "outputs": [
        {
          "output_type": "stream",
          "name": "stdout",
          "text": [
            "/content/drive/.shortcut-targets-by-id/13moyaA7g1rytL_ZCuFIkQOsPB6taeinw/Deep-Reinforcement-Learning-applied-to-DOOM/Deep_Q_Learning\n"
          ]
        }
      ]
    },
    {
      "cell_type": "code",
      "source": [
        "!ls"
      ],
      "metadata": {
        "colab": {
          "base_uri": "https://localhost:8080/"
        },
        "id": "SugkUzhHet37",
        "outputId": "a98b6478-bc4c-40c1-d524-8406b4250b1e"
      },
      "execution_count": 9,
      "outputs": [
        {
          "output_type": "stream",
          "name": "stdout",
          "text": [
            "agent.py\t  memory.py  play.py\t  runs\t     train.py  _vizdoom.ini\n",
            "all_scalars.json  models.py  __pycache__  scenarios  utils.py  weights\n"
          ]
        }
      ]
    },
    {
      "cell_type": "code",
      "source": [
        "!pip install vizdoom"
      ],
      "metadata": {
        "colab": {
          "base_uri": "https://localhost:8080/"
        },
        "id": "Y3uXOYVce4fI",
        "outputId": "2cb16750-fd99-4d1f-c052-a252d9a6b37a"
      },
      "execution_count": 10,
      "outputs": [
        {
          "output_type": "stream",
          "name": "stdout",
          "text": [
            "Collecting vizdoom\n",
            "  Downloading vizdoom-1.2.4-cp310-cp310-manylinux_2_28_x86_64.whl.metadata (11 kB)\n",
            "Requirement already satisfied: numpy in /usr/local/lib/python3.10/dist-packages (from vizdoom) (1.26.4)\n",
            "Collecting gymnasium>=0.28.0 (from vizdoom)\n",
            "  Downloading gymnasium-1.0.0-py3-none-any.whl.metadata (9.5 kB)\n",
            "Requirement already satisfied: pygame>=2.1.3 in /usr/local/lib/python3.10/dist-packages (from vizdoom) (2.6.1)\n",
            "Requirement already satisfied: cloudpickle>=1.2.0 in /usr/local/lib/python3.10/dist-packages (from gymnasium>=0.28.0->vizdoom) (3.1.0)\n",
            "Requirement already satisfied: typing-extensions>=4.3.0 in /usr/local/lib/python3.10/dist-packages (from gymnasium>=0.28.0->vizdoom) (4.12.2)\n",
            "Collecting farama-notifications>=0.0.1 (from gymnasium>=0.28.0->vizdoom)\n",
            "  Downloading Farama_Notifications-0.0.4-py3-none-any.whl.metadata (558 bytes)\n",
            "Downloading vizdoom-1.2.4-cp310-cp310-manylinux_2_28_x86_64.whl (28.1 MB)\n",
            "\u001b[2K   \u001b[90m━━━━━━━━━━━━━━━━━━━━━━━━━━━━━━━━━━━━━━━━\u001b[0m \u001b[32m28.1/28.1 MB\u001b[0m \u001b[31m44.8 MB/s\u001b[0m eta \u001b[36m0:00:00\u001b[0m\n",
            "\u001b[?25hDownloading gymnasium-1.0.0-py3-none-any.whl (958 kB)\n",
            "\u001b[2K   \u001b[90m━━━━━━━━━━━━━━━━━━━━━━━━━━━━━━━━━━━━━━━━\u001b[0m \u001b[32m958.1/958.1 kB\u001b[0m \u001b[31m48.2 MB/s\u001b[0m eta \u001b[36m0:00:00\u001b[0m\n",
            "\u001b[?25hDownloading Farama_Notifications-0.0.4-py3-none-any.whl (2.5 kB)\n",
            "Installing collected packages: farama-notifications, gymnasium, vizdoom\n",
            "Successfully installed farama-notifications-0.0.4 gymnasium-1.0.0 vizdoom-1.2.4\n"
          ]
        }
      ]
    },
    {
      "cell_type": "code",
      "source": [
        "!apt-get install -y xvfb\n",
        "!pip install pyvirtualdisplay"
      ],
      "metadata": {
        "colab": {
          "base_uri": "https://localhost:8080/"
        },
        "id": "guXm9XwGfYqw",
        "outputId": "08fe3891-127f-4a5a-9b9b-f03348fad316"
      },
      "execution_count": 11,
      "outputs": [
        {
          "output_type": "stream",
          "name": "stdout",
          "text": [
            "Reading package lists... Done\n",
            "Building dependency tree... Done\n",
            "Reading state information... Done\n",
            "The following additional packages will be installed:\n",
            "  libfontenc1 libxfont2 libxkbfile1 x11-xkb-utils xfonts-base xfonts-encodings xfonts-utils\n",
            "  xserver-common\n",
            "The following NEW packages will be installed:\n",
            "  libfontenc1 libxfont2 libxkbfile1 x11-xkb-utils xfonts-base xfonts-encodings xfonts-utils\n",
            "  xserver-common xvfb\n",
            "0 upgraded, 9 newly installed, 0 to remove and 49 not upgraded.\n",
            "Need to get 7,815 kB of archives.\n",
            "After this operation, 11.9 MB of additional disk space will be used.\n",
            "Get:1 http://archive.ubuntu.com/ubuntu jammy/main amd64 libfontenc1 amd64 1:1.1.4-1build3 [14.7 kB]\n",
            "Get:2 http://archive.ubuntu.com/ubuntu jammy/main amd64 libxfont2 amd64 1:2.0.5-1build1 [94.5 kB]\n",
            "Get:3 http://archive.ubuntu.com/ubuntu jammy/main amd64 libxkbfile1 amd64 1:1.1.0-1build3 [71.8 kB]\n",
            "Get:4 http://archive.ubuntu.com/ubuntu jammy/main amd64 x11-xkb-utils amd64 7.7+5build4 [172 kB]\n",
            "Get:5 http://archive.ubuntu.com/ubuntu jammy/main amd64 xfonts-encodings all 1:1.0.5-0ubuntu2 [578 kB]\n",
            "Get:6 http://archive.ubuntu.com/ubuntu jammy/main amd64 xfonts-utils amd64 1:7.7+6build2 [94.6 kB]\n",
            "Get:7 http://archive.ubuntu.com/ubuntu jammy/main amd64 xfonts-base all 1:1.0.5 [5,896 kB]\n",
            "Get:8 http://archive.ubuntu.com/ubuntu jammy-updates/main amd64 xserver-common all 2:21.1.4-2ubuntu1.7~22.04.12 [28.7 kB]\n",
            "Get:9 http://archive.ubuntu.com/ubuntu jammy-updates/universe amd64 xvfb amd64 2:21.1.4-2ubuntu1.7~22.04.12 [864 kB]\n",
            "Fetched 7,815 kB in 1s (9,038 kB/s)\n",
            "Selecting previously unselected package libfontenc1:amd64.\n",
            "(Reading database ... 123630 files and directories currently installed.)\n",
            "Preparing to unpack .../0-libfontenc1_1%3a1.1.4-1build3_amd64.deb ...\n",
            "Unpacking libfontenc1:amd64 (1:1.1.4-1build3) ...\n",
            "Selecting previously unselected package libxfont2:amd64.\n",
            "Preparing to unpack .../1-libxfont2_1%3a2.0.5-1build1_amd64.deb ...\n",
            "Unpacking libxfont2:amd64 (1:2.0.5-1build1) ...\n",
            "Selecting previously unselected package libxkbfile1:amd64.\n",
            "Preparing to unpack .../2-libxkbfile1_1%3a1.1.0-1build3_amd64.deb ...\n",
            "Unpacking libxkbfile1:amd64 (1:1.1.0-1build3) ...\n",
            "Selecting previously unselected package x11-xkb-utils.\n",
            "Preparing to unpack .../3-x11-xkb-utils_7.7+5build4_amd64.deb ...\n",
            "Unpacking x11-xkb-utils (7.7+5build4) ...\n",
            "Selecting previously unselected package xfonts-encodings.\n",
            "Preparing to unpack .../4-xfonts-encodings_1%3a1.0.5-0ubuntu2_all.deb ...\n",
            "Unpacking xfonts-encodings (1:1.0.5-0ubuntu2) ...\n",
            "Selecting previously unselected package xfonts-utils.\n",
            "Preparing to unpack .../5-xfonts-utils_1%3a7.7+6build2_amd64.deb ...\n",
            "Unpacking xfonts-utils (1:7.7+6build2) ...\n",
            "Selecting previously unselected package xfonts-base.\n",
            "Preparing to unpack .../6-xfonts-base_1%3a1.0.5_all.deb ...\n",
            "Unpacking xfonts-base (1:1.0.5) ...\n",
            "Selecting previously unselected package xserver-common.\n",
            "Preparing to unpack .../7-xserver-common_2%3a21.1.4-2ubuntu1.7~22.04.12_all.deb ...\n",
            "Unpacking xserver-common (2:21.1.4-2ubuntu1.7~22.04.12) ...\n",
            "Selecting previously unselected package xvfb.\n",
            "Preparing to unpack .../8-xvfb_2%3a21.1.4-2ubuntu1.7~22.04.12_amd64.deb ...\n",
            "Unpacking xvfb (2:21.1.4-2ubuntu1.7~22.04.12) ...\n",
            "Setting up libfontenc1:amd64 (1:1.1.4-1build3) ...\n",
            "Setting up xfonts-encodings (1:1.0.5-0ubuntu2) ...\n",
            "Setting up libxkbfile1:amd64 (1:1.1.0-1build3) ...\n",
            "Setting up libxfont2:amd64 (1:2.0.5-1build1) ...\n",
            "Setting up x11-xkb-utils (7.7+5build4) ...\n",
            "Setting up xfonts-utils (1:7.7+6build2) ...\n",
            "Setting up xfonts-base (1:1.0.5) ...\n",
            "Setting up xserver-common (2:21.1.4-2ubuntu1.7~22.04.12) ...\n",
            "Setting up xvfb (2:21.1.4-2ubuntu1.7~22.04.12) ...\n",
            "Processing triggers for man-db (2.10.2-1) ...\n",
            "Processing triggers for fontconfig (2.13.1-4.2ubuntu5) ...\n",
            "Processing triggers for libc-bin (2.35-0ubuntu3.4) ...\n",
            "/sbin/ldconfig.real: /usr/local/lib/libtbbbind_2_5.so.3 is not a symbolic link\n",
            "\n",
            "/sbin/ldconfig.real: /usr/local/lib/libtbbmalloc_proxy.so.2 is not a symbolic link\n",
            "\n",
            "/sbin/ldconfig.real: /usr/local/lib/libtbbbind.so.3 is not a symbolic link\n",
            "\n",
            "/sbin/ldconfig.real: /usr/local/lib/libur_loader.so.0 is not a symbolic link\n",
            "\n",
            "/sbin/ldconfig.real: /usr/local/lib/libtcm_debug.so.1 is not a symbolic link\n",
            "\n",
            "/sbin/ldconfig.real: /usr/local/lib/libur_adapter_level_zero.so.0 is not a symbolic link\n",
            "\n",
            "/sbin/ldconfig.real: /usr/local/lib/libtbbmalloc.so.2 is not a symbolic link\n",
            "\n",
            "/sbin/ldconfig.real: /usr/local/lib/libtbb.so.12 is not a symbolic link\n",
            "\n",
            "/sbin/ldconfig.real: /usr/local/lib/libtcm.so.1 is not a symbolic link\n",
            "\n",
            "/sbin/ldconfig.real: /usr/local/lib/libhwloc.so.15 is not a symbolic link\n",
            "\n",
            "/sbin/ldconfig.real: /usr/local/lib/libumf.so.0 is not a symbolic link\n",
            "\n",
            "/sbin/ldconfig.real: /usr/local/lib/libur_adapter_opencl.so.0 is not a symbolic link\n",
            "\n",
            "/sbin/ldconfig.real: /usr/local/lib/libtbbbind_2_0.so.3 is not a symbolic link\n",
            "\n",
            "Collecting pyvirtualdisplay\n",
            "  Downloading PyVirtualDisplay-3.0-py3-none-any.whl.metadata (943 bytes)\n",
            "Downloading PyVirtualDisplay-3.0-py3-none-any.whl (15 kB)\n",
            "Installing collected packages: pyvirtualdisplay\n",
            "Successfully installed pyvirtualdisplay-3.0\n"
          ]
        }
      ]
    },
    {
      "cell_type": "code",
      "source": [
        "from pyvirtualdisplay import Display\n",
        "display = Display(visible=0, size=(800, 600))\n",
        "display.start()"
      ],
      "metadata": {
        "colab": {
          "base_uri": "https://localhost:8080/"
        },
        "id": "t_0Fe2a9fZcT",
        "outputId": "85f99fdc-6077-4ef8-8b03-6d41e664157b"
      },
      "execution_count": 12,
      "outputs": [
        {
          "output_type": "execute_result",
          "data": {
            "text/plain": [
              "<pyvirtualdisplay.display.Display at 0x78adb2aab3a0>"
            ]
          },
          "metadata": {},
          "execution_count": 12
        }
      ]
    },
    {
      "cell_type": "code",
      "source": [
        "!ls"
      ],
      "metadata": {
        "colab": {
          "base_uri": "https://localhost:8080/"
        },
        "id": "iAvEBlHIkK-b",
        "outputId": "87cef0e6-e458-488c-920f-46c7b35109f7"
      },
      "execution_count": 13,
      "outputs": [
        {
          "output_type": "stream",
          "name": "stdout",
          "text": [
            "agent.py\t  memory.py  play.py\t  runs\t     train.py  _vizdoom.ini\n",
            "all_scalars.json  models.py  __pycache__  scenarios  utils.py  weights\n"
          ]
        }
      ]
    },
    {
      "cell_type": "code",
      "source": [
        "!python train.py --scenario basic --window 1 --batch_size 32 --total_episodes 100 --lr 0.0001 --freq 20"
      ],
      "metadata": {
        "colab": {
          "base_uri": "https://localhost:8080/"
        },
        "id": "o_UwpGrqev4F",
        "outputId": "cb412169-735f-4e45-d9dd-82c75e726022"
      },
      "execution_count": 32,
      "outputs": [
        {
          "output_type": "stream",
          "name": "stdout",
          "text": [
            "End of trainig phase: The screen might be frozen now, don't worry, models take some time to be loaded on GPU\n",
            "Episode: 0 Total reward: -3.65 Training loss: 0.0003 Explore P: 0.9285\n",
            "\n",
            "Saved model to weights/basic/none_0.pth\n",
            "Episode: 1 Total reward: -3.75 Training loss: 0.0024 Explore P: 0.8621\n",
            "Episode: 2 Total reward: 0.95 Training loss: 0.0029 Explore P: 0.8604\n",
            "Episode: 3 Total reward: 0.83 Training loss: 0.0018 Explore P: 0.8562\n",
            "Episode: 4 Total reward: -0.00 Training loss: 0.0023 Explore P: 0.8377\n",
            "Episode: 5 Total reward: 0.29 Training loss: 0.0033 Explore P: 0.8254\n",
            "Episode: 6 Total reward: -2.42 Training loss: 0.0241 Explore P: 0.7711\n",
            "Episode: 7 Total reward: 0.50 Training loss: 0.0006 Explore P: 0.7620\n",
            "Episode: 8 Total reward: -3.65 Training loss: 0.0188 Explore P: 0.7076\n",
            "Episode: 9 Total reward: -3.65 Training loss: 0.0190 Explore P: 0.6572\n",
            "Episode: 10 Total reward: -0.66 Training loss: 0.0017 Explore P: 0.6350\n",
            "Episode: 11 Total reward: 0.14 Training loss: 0.0025 Explore P: 0.6238\n",
            "Episode: 12 Total reward: -0.46 Training loss: 0.0128 Explore P: 0.6057\n",
            "Episode: 13 Total reward: 0.95 Training loss: 0.0014 Explore P: 0.6045\n",
            "Episode: 14 Total reward: -3.80 Training loss: 0.0095 Explore P: 0.5615\n",
            "Episode: 15 Total reward: -0.42 Training loss: 0.0017 Explore P: 0.5452\n",
            "Episode: 16 Total reward: 0.91 Training loss: 0.0317 Explore P: 0.5436\n",
            "Episode: 17 Total reward: 0.41 Training loss: 0.0058 Explore P: 0.5367\n",
            "Episode: 18 Total reward: -0.70 Training loss: 0.0239 Explore P: 0.5196\n",
            "Episode: 19 Total reward: -3.60 Training loss: 0.0016 Explore P: 0.4828\n",
            "Episode: 20 Total reward: -1.26 Training loss: 0.0142 Explore P: 0.4616\n",
            "\n",
            "Saved model to weights/basic/none_20.pth\n",
            "Episode: 21 Total reward: -3.70 Training loss: 0.0109 Explore P: 0.4289\n",
            "Episode: 22 Total reward: 0.79 Training loss: 0.0048 Explore P: 0.4264\n",
            "Episode: 23 Total reward: -0.63 Training loss: 0.0197 Explore P: 0.4125\n",
            "Episode: 24 Total reward: 0.95 Training loss: 0.0012 Explore P: 0.4117\n",
            "Episode: 25 Total reward: -2.04 Training loss: 0.0159 Explore P: 0.3864\n",
            "Episode: 26 Total reward: 0.53 Training loss: 0.0011 Explore P: 0.3827\n",
            "Episode: 27 Total reward: 0.03 Training loss: 0.0056 Explore P: 0.3753\n",
            "Episode: 28 Total reward: 0.54 Training loss: 0.0038 Explore P: 0.3713\n",
            "Episode: 29 Total reward: -0.56 Training loss: 0.0076 Explore P: 0.3596\n",
            "Episode: 30 Total reward: 0.91 Training loss: 0.0180 Explore P: 0.3585\n",
            "Episode: 31 Total reward: -0.17 Training loss: 0.0179 Explore P: 0.3499\n",
            "Episode: 32 Total reward: 0.95 Training loss: 0.0016 Explore P: 0.3492\n",
            "Episode: 33 Total reward: 0.91 Training loss: 0.0259 Explore P: 0.3482\n",
            "Episode: 34 Total reward: 0.54 Training loss: 0.0159 Explore P: 0.3445\n",
            "Episode: 35 Total reward: -3.65 Training loss: 0.0047 Explore P: 0.3204\n",
            "Episode: 36 Total reward: -1.12 Training loss: 0.0050 Explore P: 0.3070\n",
            "Episode: 37 Total reward: -0.79 Training loss: 0.0265 Explore P: 0.2959\n",
            "Episode: 38 Total reward: -3.55 Training loss: 0.0021 Explore P: 0.2753\n",
            "Episode: 39 Total reward: -3.55 Training loss: 0.0118 Explore P: 0.2561\n",
            "Episode: 40 Total reward: 0.68 Training loss: 0.0053 Explore P: 0.2544\n",
            "\n",
            "Saved model to weights/basic/none_40.pth\n",
            "Episode: 41 Total reward: -3.45 Training loss: 0.0019 Explore P: 0.2367\n",
            "Episode: 42 Total reward: -0.47 Training loss: 0.0224 Explore P: 0.2298\n",
            "Episode: 43 Total reward: 0.87 Training loss: 0.0012 Explore P: 0.2289\n",
            "Episode: 44 Total reward: -3.65 Training loss: 0.0028 Explore P: 0.2131\n",
            "Episode: 45 Total reward: -3.50 Training loss: 0.0011 Explore P: 0.1984\n",
            "Episode: 46 Total reward: -3.30 Training loss: 0.0027 Explore P: 0.1848\n",
            "Episode: 47 Total reward: 0.31 Training loss: 0.0005 Explore P: 0.1822\n",
            "Episode: 48 Total reward: 0.49 Training loss: 0.0064 Explore P: 0.1803\n",
            "Episode: 49 Total reward: 0.87 Training loss: 0.0074 Explore P: 0.1796\n",
            "Episode: 50 Total reward: -3.65 Training loss: 0.0004 Explore P: 0.1674\n",
            "Episode: 51 Total reward: -1.48 Training loss: 0.0021 Explore P: 0.1597\n",
            "Episode: 52 Total reward: -1.99 Training loss: 0.0009 Explore P: 0.1506\n",
            "Episode: 53 Total reward: 0.58 Training loss: 0.0009 Explore P: 0.1492\n",
            "Episode: 54 Total reward: -1.03 Training loss: 0.0007 Explore P: 0.1429\n",
            "Episode: 55 Total reward: 0.07 Training loss: 0.0021 Explore P: 0.1403\n",
            "Episode: 56 Total reward: -0.79 Training loss: 0.0006 Explore P: 0.1354\n",
            "Episode: 57 Total reward: 0.95 Training loss: 0.0007 Explore P: 0.1352\n",
            "Episode: 58 Total reward: 0.95 Training loss: 0.0006 Explore P: 0.1349\n",
            "Episode: 59 Total reward: 0.18 Training loss: 0.0025 Explore P: 0.1326\n",
            "Episode: 60 Total reward: 0.59 Training loss: 0.0077 Explore P: 0.1312\n",
            "\n",
            "Saved model to weights/basic/none_60.pth\n",
            "Episode: 61 Total reward: 0.95 Training loss: 0.0008 Explore P: 0.1310\n",
            "Episode: 62 Total reward: 0.49 Training loss: 0.0140 Explore P: 0.1297\n",
            "Episode: 63 Total reward: 0.95 Training loss: 0.0006 Explore P: 0.1294\n",
            "Episode: 64 Total reward: 0.79 Training loss: 0.0045 Explore P: 0.1287\n",
            "Episode: 65 Total reward: -3.55 Training loss: 0.0015 Explore P: 0.1201\n",
            "Episode: 66 Total reward: 0.21 Training loss: 0.0006 Explore P: 0.1182\n",
            "Episode: 67 Total reward: -0.13 Training loss: 0.0009 Explore P: 0.1156\n",
            "Episode: 68 Total reward: 0.95 Training loss: 0.0005 Explore P: 0.1154\n",
            "Episode: 69 Total reward: 0.27 Training loss: 0.0008 Explore P: 0.1137\n",
            "Episode: 70 Total reward: -1.01 Training loss: 0.0259 Explore P: 0.1091\n",
            "Episode: 71 Total reward: -3.65 Training loss: 0.0007 Explore P: 0.1019\n",
            "Episode: 72 Total reward: 0.46 Training loss: 0.0015 Explore P: 0.1007\n",
            "Episode: 73 Total reward: 0.63 Training loss: 0.0021 Explore P: 0.0998\n",
            "Episode: 74 Total reward: -3.60 Training loss: 0.0003 Explore P: 0.0933\n",
            "Episode: 75 Total reward: 0.14 Training loss: 0.0013 Explore P: 0.0916\n",
            "Episode: 76 Total reward: 0.46 Training loss: 0.0007 Explore P: 0.0905\n",
            "Episode: 77 Total reward: -3.50 Training loss: 0.0010 Explore P: 0.0847\n",
            "Episode: 78 Total reward: -0.67 Training loss: 0.0003 Explore P: 0.0821\n",
            "Episode: 79 Total reward: -3.55 Training loss: 0.0006 Explore P: 0.0769\n",
            "Episode: 80 Total reward: 0.91 Training loss: 0.0008 Explore P: 0.0767\n",
            "\n",
            "Saved model to weights/basic/none_80.pth\n",
            "Episode: 81 Total reward: 0.56 Training loss: 0.0013 Explore P: 0.0761\n",
            "Episode: 82 Total reward: 0.91 Training loss: 0.0007 Explore P: 0.0759\n",
            "Episode: 83 Total reward: 0.41 Training loss: 0.0005 Explore P: 0.0750\n",
            "Episode: 84 Total reward: -0.33 Training loss: 0.0013 Explore P: 0.0732\n",
            "Episode: 85 Total reward: 0.46 Training loss: 0.0111 Explore P: 0.0723\n",
            "Episode: 86 Total reward: -3.35 Training loss: 0.0102 Explore P: 0.0678\n",
            "Episode: 87 Total reward: 0.01 Training loss: 0.0004 Explore P: 0.0665\n",
            "Episode: 88 Total reward: 0.83 Training loss: 0.0035 Explore P: 0.0662\n",
            "Episode: 89 Total reward: 0.95 Training loss: 0.0010 Explore P: 0.0661\n",
            "Episode: 90 Total reward: 0.83 Training loss: 0.0093 Explore P: 0.0659\n",
            "Episode: 91 Total reward: -1.55 Training loss: 0.0044 Explore P: 0.0627\n",
            "Episode: 92 Total reward: 0.31 Training loss: 0.0012 Explore P: 0.0619\n",
            "Episode: 93 Total reward: 0.43 Training loss: 0.0008 Explore P: 0.0611\n",
            "Episode: 94 Total reward: -3.60 Training loss: 0.0066 Explore P: 0.0575\n",
            "Episode: 95 Total reward: 0.75 Training loss: 0.0013 Explore P: 0.0571\n",
            "Episode: 96 Total reward: 0.71 Training loss: 0.0024 Explore P: 0.0567\n",
            "Episode: 97 Total reward: 0.50 Training loss: 0.0005 Explore P: 0.0562\n",
            "Episode: 98 Total reward: -0.11 Training loss: 0.0006 Explore P: 0.0550\n",
            "Episode: 99 Total reward: -0.45 Training loss: 0.0198 Explore P: 0.0535\n"
          ]
        }
      ]
    },
    {
      "cell_type": "code",
      "source": [
        "!pwd"
      ],
      "metadata": {
        "colab": {
          "base_uri": "https://localhost:8080/"
        },
        "id": "lv-nRCfViimN",
        "outputId": "753ca194-f363-40bf-a5e9-a24eed3f5e9a"
      },
      "execution_count": 15,
      "outputs": [
        {
          "output_type": "stream",
          "name": "stdout",
          "text": [
            "/content/drive/.shortcut-targets-by-id/13moyaA7g1rytL_ZCuFIkQOsPB6taeinw/Deep-Reinforcement-Learning-applied-to-DOOM/Deep_Q_Learning\n"
          ]
        }
      ]
    },
    {
      "cell_type": "code",
      "source": [
        "!python play.py --scenario basic --weights /content/drive/MyDrive/Deep-Reinforcement-Learning-applied-to-DOOM/Deep_Q_Learning/weights/basic/none_20.pth --total_episodes 10 --record --output_dir /content/drive/MyDrive/Videos"
      ],
      "metadata": {
        "colab": {
          "base_uri": "https://localhost:8080/"
        },
        "id": "JJNMQj0cwLTd",
        "outputId": "eb4d5419-18ee-4d26-eb47-0c2017ee2951"
      },
      "execution_count": 33,
      "outputs": [
        {
          "output_type": "stream",
          "name": "stdout",
          "text": [
            "Episode 1/10 - Total reward: -380.0\n",
            "Saved video: /content/drive/MyDrive/Videos/episode_1.mp4\n",
            "Episode 2/10 - Total reward: 58.0\n",
            "Saved video: /content/drive/MyDrive/Videos/episode_2.mp4\n",
            "Episode 3/10 - Total reward: 95.0\n",
            "Saved video: /content/drive/MyDrive/Videos/episode_3.mp4\n",
            "Episode 4/10 - Total reward: -380.0\n",
            "Saved video: /content/drive/MyDrive/Videos/episode_4.mp4\n",
            "Episode 5/10 - Total reward: -375.0\n",
            "Saved video: /content/drive/MyDrive/Videos/episode_5.mp4\n",
            "Episode 6/10 - Total reward: -375.0\n",
            "Saved video: /content/drive/MyDrive/Videos/episode_6.mp4\n",
            "Episode 7/10 - Total reward: -375.0\n",
            "Saved video: /content/drive/MyDrive/Videos/episode_7.mp4\n",
            "Episode 8/10 - Total reward: -380.0\n",
            "Saved video: /content/drive/MyDrive/Videos/episode_8.mp4\n",
            "Episode 9/10 - Total reward: 95.0\n",
            "Saved video: /content/drive/MyDrive/Videos/episode_9.mp4\n",
            "Episode 10/10 - Total reward: -380.0\n",
            "Saved video: /content/drive/MyDrive/Videos/episode_10.mp4\n"
          ]
        }
      ]
    }
  ]
}